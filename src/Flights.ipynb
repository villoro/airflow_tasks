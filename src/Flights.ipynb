{
 "cells": [
  {
   "cell_type": "code",
   "execution_count": 2,
   "metadata": {
    "ExecuteTime": {
     "end_time": "2020-01-11T19:01:39.201715Z",
     "start_time": "2020-01-11T19:01:38.392419Z"
    }
   },
   "outputs": [],
   "source": [
    "import requests\n",
    "import pandas as pd\n",
    "\n",
    "from global_utilities import get_secret\n",
    "\n",
    "base_url = \"https://skyscanner-skyscanner-flight-search-v1.p.rapidapi.com/apiservices/browsedates/v1.0/\"\n",
    "\n",
    "headers = {\n",
    "    'x-rapidapi-host': \"skyscanner-skyscanner-flight-search-v1.p.rapidapi.com\",\n",
    "    'x-rapidapi-key': get_secret(\"RAPIDAPI_KEY\")\n",
    "}"
   ]
  },
  {
   "cell_type": "code",
   "execution_count": 21,
   "metadata": {
    "ExecuteTime": {
     "end_time": "2020-01-11T19:09:47.925338Z",
     "start_time": "2020-01-11T19:09:47.901385Z"
    }
   },
   "outputs": [],
   "source": [
    "from flights.rapidapi import parse_data\n",
    "\n",
    "from datetime import date, timedelta\n",
    "from tqdm import tqdm_notebook as tqdm\n",
    "from time import sleep"
   ]
  },
  {
   "cell_type": "code",
   "execution_count": 69,
   "metadata": {
    "ExecuteTime": {
     "end_time": "2020-01-11T19:24:07.414211Z",
     "start_time": "2020-01-11T19:24:07.410222Z"
    }
   },
   "outputs": [],
   "source": [
    "dfs = []"
   ]
  },
  {
   "cell_type": "code",
   "execution_count": 70,
   "metadata": {
    "ExecuteTime": {
     "end_time": "2020-01-11T19:24:07.896921Z",
     "start_time": "2020-01-11T19:24:07.891934Z"
    }
   },
   "outputs": [],
   "source": [
    "def query_flights(origin, destination, day):\n",
    "    \n",
    "    for attemp_num in range(10):\n",
    "        response = requests.get(f\"{base_url}ES/EUR/en-US/BCN/CAG/{day:%Y-%m-%d}\", headers=headers)\n",
    "        \n",
    "        if response.status_code == 200:\n",
    "            return response\n",
    "    \n",
    "        elif response.status_code == 429:\n",
    "            sleep(0.5 * attemp_num)\n",
    "            \n",
    "        else:\n",
    "            response.raise_for_status()"
   ]
  },
  {
   "cell_type": "code",
   "execution_count": null,
   "metadata": {
    "ExecuteTime": {
     "start_time": "2020-01-11T19:24:08.616Z"
    }
   },
   "outputs": [
    {
     "data": {
      "application/vnd.jupyter.widget-view+json": {
       "model_id": "d8a263b0f936468fba452d1cab8541b9",
       "version_major": 2,
       "version_minor": 0
      },
      "text/plain": [
       "HBox(children=(IntProgress(value=0, max=360), HTML(value='')))"
      ]
     },
     "metadata": {},
     "output_type": "display_data"
    }
   ],
   "source": [
    "for x in tqdm(range(360)):\n",
    "    day = date.today() + timedelta(x)\n",
    "\n",
    "    response = query_flights(\"BCN\", \"CAG\", day)\n",
    "    \n",
    "    data = response.json()\n",
    "    \n",
    "    if data[\"Quotes\"]:\n",
    "        dfs.append(parse_data(data))"
   ]
  },
  {
   "cell_type": "code",
   "execution_count": null,
   "metadata": {
    "ExecuteTime": {
     "start_time": "2020-01-11T19:25:26.149Z"
    }
   },
   "outputs": [],
   "source": [
    "df = pd.concat(dfs)"
   ]
  },
  {
   "cell_type": "code",
   "execution_count": null,
   "metadata": {
    "ExecuteTime": {
     "start_time": "2020-01-11T19:25:27.749Z"
    }
   },
   "outputs": [],
   "source": [
    "df"
   ]
  },
  {
   "cell_type": "code",
   "execution_count": null,
   "metadata": {},
   "outputs": [],
   "source": []
  }
 ],
 "metadata": {
  "kernelspec": {
   "display_name": "Python 3",
   "language": "python",
   "name": "python3"
  }
 },
 "nbformat": 4,
 "nbformat_minor": 2
}
