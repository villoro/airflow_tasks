{
 "cells": [
  {
   "cell_type": "code",
   "execution_count": 2,
   "metadata": {
    "ExecuteTime": {
     "end_time": "2020-01-11T19:01:39.201715Z",
     "start_time": "2020-01-11T19:01:38.392419Z"
    }
   },
   "outputs": [],
   "source": [
    "import requests\n",
    "import pandas as pd\n",
    "\n",
    "from global_utilities import get_secret\n",
    "\n",
    "base_url = \"https://skyscanner-skyscanner-flight-search-v1.p.rapidapi.com/apiservices/browsedates/v1.0/\"\n",
    "\n",
    "headers = {\n",
    "    'x-rapidapi-host': \"skyscanner-skyscanner-flight-search-v1.p.rapidapi.com\",\n",
    "    'x-rapidapi-key': get_secret(\"RAPIDAPI_KEY\")\n",
    "}"
   ]
  },
  {
   "cell_type": "code",
   "execution_count": 21,
   "metadata": {
    "ExecuteTime": {
     "end_time": "2020-01-11T19:09:47.925338Z",
     "start_time": "2020-01-11T19:09:47.901385Z"
    }
   },
   "outputs": [],
   "source": [
    "from flights.rapidapi import parse_data\n",
    "\n",
    "from datetime import date, timedelta\n",
    "from tqdm import tqdm_notebook as tqdm\n",
    "from time import sleep"
   ]
  },
  {
   "cell_type": "code",
   "execution_count": 69,
   "metadata": {
    "ExecuteTime": {
     "end_time": "2020-01-11T19:24:07.414211Z",
     "start_time": "2020-01-11T19:24:07.410222Z"
    }
   },
   "outputs": [],
   "source": [
    "dfs = []"
   ]
  },
  {
   "cell_type": "code",
   "execution_count": 70,
   "metadata": {
    "ExecuteTime": {
     "end_time": "2020-01-11T19:24:07.896921Z",
     "start_time": "2020-01-11T19:24:07.891934Z"
    }
   },
   "outputs": [],
   "source": [
    "def query_flights(origin, destination, day):\n",
    "    \n",
    "    for attemp_num in range(10):\n",
    "        response = requests.get(f\"{base_url}ES/EUR/en-US/BCN/CAG/{day:%Y-%m-%d}\", headers=headers)\n",
    "        \n",
    "        if response.status_code == 200:\n",
    "            return response\n",
    "    \n",
    "        elif response.status_code == 429:\n",
    "            sleep(0.5 * attemp_num)\n",
    "            \n",
    "        else:\n",
    "            response.raise_for_status()"
   ]
  },
  {
   "cell_type": "code",
   "execution_count": 71,
   "metadata": {
    "ExecuteTime": {
     "end_time": "2020-01-11T19:54:54.798496Z",
     "start_time": "2020-01-11T19:24:08.619250Z"
    }
   },
   "outputs": [
    {
     "data": {
      "application/vnd.jupyter.widget-view+json": {
       "model_id": "d8a263b0f936468fba452d1cab8541b9",
       "version_major": 2,
       "version_minor": 0
      },
      "text/plain": [
       "HBox(children=(IntProgress(value=0, max=360), HTML(value='')))"
      ]
     },
     "metadata": {},
     "output_type": "display_data"
    }
   ],
   "source": [
    "for x in tqdm(range(360)):\n",
    "    day = date.today() + timedelta(x)\n",
    "\n",
    "    response = query_flights(\"BCN\", \"CAG\", day)\n",
    "    \n",
    "    data = response.json()\n",
    "    \n",
    "    if data[\"Quotes\"]:\n",
    "        dfs.append(parse_data(data))"
   ]
  },
  {
   "cell_type": "code",
   "execution_count": 72,
   "metadata": {
    "ExecuteTime": {
     "end_time": "2020-01-11T19:54:54.930149Z",
     "start_time": "2020-01-11T19:54:54.800490Z"
    }
   },
   "outputs": [],
   "source": [
    "df = pd.concat(dfs)"
   ]
  },
  {
   "cell_type": "code",
   "execution_count": 73,
   "metadata": {
    "ExecuteTime": {
     "end_time": "2020-01-11T19:54:54.948094Z",
     "start_time": "2020-01-11T19:54:54.931140Z"
    }
   },
   "outputs": [
    {
     "data": {
      "text/html": [
       "<div>\n",
       "<style scoped>\n",
       "    .dataframe tbody tr th:only-of-type {\n",
       "        vertical-align: middle;\n",
       "    }\n",
       "\n",
       "    .dataframe tbody tr th {\n",
       "        vertical-align: top;\n",
       "    }\n",
       "\n",
       "    .dataframe thead th {\n",
       "        text-align: right;\n",
       "    }\n",
       "</style>\n",
       "<table border=\"1\" class=\"dataframe\">\n",
       "  <thead>\n",
       "    <tr style=\"text-align: right;\">\n",
       "      <th></th>\n",
       "      <th>MinPrice</th>\n",
       "      <th>Direct</th>\n",
       "      <th>QuoteDateTime</th>\n",
       "      <th>DepartureDate</th>\n",
       "      <th>Carrier</th>\n",
       "      <th>Origin</th>\n",
       "      <th>Destination</th>\n",
       "    </tr>\n",
       "    <tr>\n",
       "      <th></th>\n",
       "      <th></th>\n",
       "      <th></th>\n",
       "      <th></th>\n",
       "      <th></th>\n",
       "      <th></th>\n",
       "      <th></th>\n",
       "      <th></th>\n",
       "    </tr>\n",
       "  </thead>\n",
       "  <tbody>\n",
       "    <tr>\n",
       "      <th>1</th>\n",
       "      <td>96.0</td>\n",
       "      <td>False</td>\n",
       "      <td>2020-01-11 18:13:00</td>\n",
       "      <td>2020-01-13</td>\n",
       "      <td>Ryanair</td>\n",
       "      <td>BCN</td>\n",
       "      <td>CAG</td>\n",
       "    </tr>\n",
       "    <tr>\n",
       "      <th>1</th>\n",
       "      <td>70.0</td>\n",
       "      <td>False</td>\n",
       "      <td>2020-01-11 18:14:00</td>\n",
       "      <td>2020-01-14</td>\n",
       "      <td>Ryanair</td>\n",
       "      <td>BCN</td>\n",
       "      <td>CAG</td>\n",
       "    </tr>\n",
       "    <tr>\n",
       "      <th>1</th>\n",
       "      <td>78.0</td>\n",
       "      <td>False</td>\n",
       "      <td>2020-01-11 18:16:00</td>\n",
       "      <td>2020-01-15</td>\n",
       "      <td>Vueling Airlines</td>\n",
       "      <td>BCN</td>\n",
       "      <td>CAG</td>\n",
       "    </tr>\n",
       "    <tr>\n",
       "      <th>1</th>\n",
       "      <td>65.0</td>\n",
       "      <td>False</td>\n",
       "      <td>2020-01-11 18:09:00</td>\n",
       "      <td>2020-01-16</td>\n",
       "      <td>Ryanair</td>\n",
       "      <td>BCN</td>\n",
       "      <td>CAG</td>\n",
       "    </tr>\n",
       "    <tr>\n",
       "      <th>1</th>\n",
       "      <td>97.0</td>\n",
       "      <td>False</td>\n",
       "      <td>2020-01-11 15:44:00</td>\n",
       "      <td>2020-01-17</td>\n",
       "      <td>Ryanair</td>\n",
       "      <td>BCN</td>\n",
       "      <td>CAG</td>\n",
       "    </tr>\n",
       "    <tr>\n",
       "      <th>...</th>\n",
       "      <td>...</td>\n",
       "      <td>...</td>\n",
       "      <td>...</td>\n",
       "      <td>...</td>\n",
       "      <td>...</td>\n",
       "      <td>...</td>\n",
       "      <td>...</td>\n",
       "    </tr>\n",
       "    <tr>\n",
       "      <th>1</th>\n",
       "      <td>83.0</td>\n",
       "      <td>False</td>\n",
       "      <td>2020-01-04 17:40:00</td>\n",
       "      <td>2020-10-19</td>\n",
       "      <td>Iberia</td>\n",
       "      <td>BCN</td>\n",
       "      <td>CAG</td>\n",
       "    </tr>\n",
       "    <tr>\n",
       "      <th>1</th>\n",
       "      <td>44.0</td>\n",
       "      <td>True</td>\n",
       "      <td>2020-01-08 23:03:00</td>\n",
       "      <td>2020-10-21</td>\n",
       "      <td>Vueling Airlines</td>\n",
       "      <td>BCN</td>\n",
       "      <td>CAG</td>\n",
       "    </tr>\n",
       "    <tr>\n",
       "      <th>1</th>\n",
       "      <td>73.0</td>\n",
       "      <td>False</td>\n",
       "      <td>2020-01-05 12:52:00</td>\n",
       "      <td>2020-10-22</td>\n",
       "      <td>Ryanair</td>\n",
       "      <td>BCN</td>\n",
       "      <td>CAG</td>\n",
       "    </tr>\n",
       "    <tr>\n",
       "      <th>1</th>\n",
       "      <td>32.0</td>\n",
       "      <td>True</td>\n",
       "      <td>2020-01-09 09:44:00</td>\n",
       "      <td>2020-10-23</td>\n",
       "      <td>Vueling Airlines</td>\n",
       "      <td>BCN</td>\n",
       "      <td>CAG</td>\n",
       "    </tr>\n",
       "    <tr>\n",
       "      <th>1</th>\n",
       "      <td>64.0</td>\n",
       "      <td>False</td>\n",
       "      <td>2020-01-09 09:44:00</td>\n",
       "      <td>2020-10-24</td>\n",
       "      <td>Vueling Airlines</td>\n",
       "      <td>BCN</td>\n",
       "      <td>CAG</td>\n",
       "    </tr>\n",
       "  </tbody>\n",
       "</table>\n",
       "<p>312 rows × 7 columns</p>\n",
       "</div>"
      ],
      "text/plain": [
       "    MinPrice  Direct       QuoteDateTime DepartureDate           Carrier  \\\n",
       "                                                                           \n",
       "1       96.0   False 2020-01-11 18:13:00    2020-01-13           Ryanair   \n",
       "1       70.0   False 2020-01-11 18:14:00    2020-01-14           Ryanair   \n",
       "1       78.0   False 2020-01-11 18:16:00    2020-01-15  Vueling Airlines   \n",
       "1       65.0   False 2020-01-11 18:09:00    2020-01-16           Ryanair   \n",
       "1       97.0   False 2020-01-11 15:44:00    2020-01-17           Ryanair   \n",
       "..       ...     ...                 ...           ...               ...   \n",
       "1       83.0   False 2020-01-04 17:40:00    2020-10-19            Iberia   \n",
       "1       44.0    True 2020-01-08 23:03:00    2020-10-21  Vueling Airlines   \n",
       "1       73.0   False 2020-01-05 12:52:00    2020-10-22           Ryanair   \n",
       "1       32.0    True 2020-01-09 09:44:00    2020-10-23  Vueling Airlines   \n",
       "1       64.0   False 2020-01-09 09:44:00    2020-10-24  Vueling Airlines   \n",
       "\n",
       "   Origin Destination  \n",
       "                       \n",
       "1     BCN         CAG  \n",
       "1     BCN         CAG  \n",
       "1     BCN         CAG  \n",
       "1     BCN         CAG  \n",
       "1     BCN         CAG  \n",
       "..    ...         ...  \n",
       "1     BCN         CAG  \n",
       "1     BCN         CAG  \n",
       "1     BCN         CAG  \n",
       "1     BCN         CAG  \n",
       "1     BCN         CAG  \n",
       "\n",
       "[312 rows x 7 columns]"
      ]
     },
     "execution_count": 73,
     "metadata": {},
     "output_type": "execute_result"
    }
   ],
   "source": [
    "df"
   ]
  },
  {
   "cell_type": "code",
   "execution_count": null,
   "metadata": {},
   "outputs": [],
   "source": []
  }
 ],
 "metadata": {
  "kernelspec": {
   "display_name": "Python 3",
   "language": "python",
   "name": "python3"
  }
 },
 "nbformat": 4,
 "nbformat_minor": 2
}
