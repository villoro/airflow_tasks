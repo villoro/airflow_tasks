{
 "cells": [
  {
   "cell_type": "code",
   "execution_count": 1,
   "metadata": {
    "ExecuteTime": {
     "end_time": "2020-01-12T12:39:17.808385Z",
     "start_time": "2020-01-12T12:39:16.144670Z"
    }
   },
   "outputs": [],
   "source": [
    "import pandas as pd\n",
    "import plotly.express as px\n",
    "\n",
    "from flights import rapidapi"
   ]
  },
  {
   "cell_type": "code",
   "execution_count": 2,
   "metadata": {
    "ExecuteTime": {
     "end_time": "2020-01-12T12:39:39.603904Z",
     "start_time": "2020-01-12T12:39:23.667636Z"
    }
   },
   "outputs": [
    {
     "name": "stderr",
     "output_type": "stream",
     "text": [
      "100%|██████████████████████████████████████████████████████████████████████████████████████████████████████████████████████████████████████████████████████████████████████████████████████████████████████████████████████████████████████████████████| 360/360 [00:15<00:00, 23.13it/s]\n"
     ]
    }
   ],
   "source": [
    "df = rapidapi.query_pair(\"BCN\", \"CAG\")"
   ]
  },
  {
   "cell_type": "code",
   "execution_count": 4,
   "metadata": {
    "ExecuteTime": {
     "end_time": "2020-01-12T12:40:04.770810Z",
     "start_time": "2020-01-12T12:40:04.758843Z"
    }
   },
   "outputs": [
    {
     "data": {
      "text/html": [
       "<div>\n",
       "<style scoped>\n",
       "    .dataframe tbody tr th:only-of-type {\n",
       "        vertical-align: middle;\n",
       "    }\n",
       "\n",
       "    .dataframe tbody tr th {\n",
       "        vertical-align: top;\n",
       "    }\n",
       "\n",
       "    .dataframe thead th {\n",
       "        text-align: right;\n",
       "    }\n",
       "</style>\n",
       "<table border=\"1\" class=\"dataframe\">\n",
       "  <thead>\n",
       "    <tr style=\"text-align: right;\">\n",
       "      <th></th>\n",
       "      <th>MinPrice</th>\n",
       "      <th>Direct</th>\n",
       "      <th>QuoteDateTime</th>\n",
       "      <th>DepartureDate</th>\n",
       "      <th>Carrier</th>\n",
       "      <th>Origin</th>\n",
       "      <th>Destination</th>\n",
       "      <th>Inserted</th>\n",
       "    </tr>\n",
       "    <tr>\n",
       "      <th></th>\n",
       "      <th></th>\n",
       "      <th></th>\n",
       "      <th></th>\n",
       "      <th></th>\n",
       "      <th></th>\n",
       "      <th></th>\n",
       "      <th></th>\n",
       "      <th></th>\n",
       "    </tr>\n",
       "  </thead>\n",
       "  <tbody>\n",
       "    <tr>\n",
       "      <th>20</th>\n",
       "      <td>83.0</td>\n",
       "      <td>False</td>\n",
       "      <td>2020-01-04 17:40:00</td>\n",
       "      <td>2020-10-19</td>\n",
       "      <td>Iberia</td>\n",
       "      <td>BCN</td>\n",
       "      <td>CAG</td>\n",
       "      <td>2020-01-12</td>\n",
       "    </tr>\n",
       "    <tr>\n",
       "      <th>21</th>\n",
       "      <td>44.0</td>\n",
       "      <td>True</td>\n",
       "      <td>2020-01-08 23:03:00</td>\n",
       "      <td>2020-10-21</td>\n",
       "      <td>Vueling Airlines</td>\n",
       "      <td>BCN</td>\n",
       "      <td>CAG</td>\n",
       "      <td>2020-01-12</td>\n",
       "    </tr>\n",
       "    <tr>\n",
       "      <th>22</th>\n",
       "      <td>73.0</td>\n",
       "      <td>False</td>\n",
       "      <td>2020-01-05 12:52:00</td>\n",
       "      <td>2020-10-22</td>\n",
       "      <td>Ryanair</td>\n",
       "      <td>BCN</td>\n",
       "      <td>CAG</td>\n",
       "      <td>2020-01-12</td>\n",
       "    </tr>\n",
       "    <tr>\n",
       "      <th>23</th>\n",
       "      <td>32.0</td>\n",
       "      <td>True</td>\n",
       "      <td>2020-01-09 09:44:00</td>\n",
       "      <td>2020-10-23</td>\n",
       "      <td>Vueling Airlines</td>\n",
       "      <td>BCN</td>\n",
       "      <td>CAG</td>\n",
       "      <td>2020-01-12</td>\n",
       "    </tr>\n",
       "    <tr>\n",
       "      <th>24</th>\n",
       "      <td>64.0</td>\n",
       "      <td>False</td>\n",
       "      <td>2020-01-09 09:44:00</td>\n",
       "      <td>2020-10-24</td>\n",
       "      <td>Vueling Airlines</td>\n",
       "      <td>BCN</td>\n",
       "      <td>CAG</td>\n",
       "      <td>2020-01-12</td>\n",
       "    </tr>\n",
       "  </tbody>\n",
       "</table>\n",
       "</div>"
      ],
      "text/plain": [
       "    MinPrice  Direct       QuoteDateTime DepartureDate           Carrier  \\\n",
       "                                                                           \n",
       "20      83.0   False 2020-01-04 17:40:00    2020-10-19            Iberia   \n",
       "21      44.0    True 2020-01-08 23:03:00    2020-10-21  Vueling Airlines   \n",
       "22      73.0   False 2020-01-05 12:52:00    2020-10-22           Ryanair   \n",
       "23      32.0    True 2020-01-09 09:44:00    2020-10-23  Vueling Airlines   \n",
       "24      64.0   False 2020-01-09 09:44:00    2020-10-24  Vueling Airlines   \n",
       "\n",
       "   Origin Destination    Inserted  \n",
       "                                   \n",
       "20    BCN         CAG  2020-01-12  \n",
       "21    BCN         CAG  2020-01-12  \n",
       "22    BCN         CAG  2020-01-12  \n",
       "23    BCN         CAG  2020-01-12  \n",
       "24    BCN         CAG  2020-01-12  "
      ]
     },
     "execution_count": 4,
     "metadata": {},
     "output_type": "execute_result"
    }
   ],
   "source": [
    "df.tail()"
   ]
  },
  {
   "cell_type": "code",
   "execution_count": 8,
   "metadata": {
    "ExecuteTime": {
     "end_time": "2020-01-12T12:33:23.748555Z",
     "start_time": "2020-01-12T12:33:23.528860Z"
    }
   },
   "outputs": [],
   "source": [
    "import requests\n",
    "\n",
    "url = \"https://skyscanner-skyscanner-flight-search-v1.p.rapidapi.com/apiservices/browseroutes/v1.0/ES/EUR/en-US/BCN/CAG/2020-02-01/\"\n",
    "\n",
    "headers = {\n",
    "    'x-rapidapi-host': \"skyscanner-skyscanner-flight-search-v1.p.rapidapi.com\",\n",
    "    'x-rapidapi-key': \"ca44c76343msh8284f7979553713p1e44e7jsn9a255105859e\"\n",
    "    }\n",
    "\n",
    "response = requests.request(\"GET\", url, headers=headers)"
   ]
  },
  {
   "cell_type": "code",
   "execution_count": null,
   "metadata": {},
   "outputs": [],
   "source": []
  }
 ],
 "metadata": {
  "kernelspec": {
   "display_name": "Python 3",
   "language": "python",
   "name": "python3"
  },
  "language_info": {
   "codemirror_mode": {
    "name": "ipython",
    "version": 3
   },
   "file_extension": ".py",
   "mimetype": "text/x-python",
   "name": "python",
   "nbconvert_exporter": "python",
   "pygments_lexer": "ipython3",
   "version": "3.7.3"
  }
 },
 "nbformat": 4,
 "nbformat_minor": 2
}
