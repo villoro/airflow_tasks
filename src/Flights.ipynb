{
 "cells": [
  {
   "cell_type": "code",
   "execution_count": 1,
   "metadata": {
    "ExecuteTime": {
     "end_time": "2020-01-12T15:43:51.110262Z",
     "start_time": "2020-01-12T15:43:49.407513Z"
    }
   },
   "outputs": [],
   "source": [
    "import pandas as pd\n",
    "import plotly.express as px\n",
    "from tqdm import tqdm_notebook as tqdm\n",
    "\n",
    "import global_utilities as gu\n",
    "from flights import rapidapi, constants as c, process\n",
    "\n",
    "rapidapi.tqdm = tqdm\n",
    "process.tqdm = tqdm"
   ]
  },
  {
   "cell_type": "code",
   "execution_count": 2,
   "metadata": {
    "ExecuteTime": {
     "end_time": "2020-01-12T15:27:27.369421Z",
     "start_time": "2020-01-12T15:27:09.551819Z"
    }
   },
   "outputs": [
    {
     "data": {
      "application/vnd.jupyter.widget-view+json": {
       "model_id": "5e86473b85734f39a3ad75fa92b8d3a4",
       "version_major": 2,
       "version_minor": 0
      },
      "text/plain": [
       "HBox(children=(FloatProgress(value=0.0, max=366.0), HTML(value='')))"
      ]
     },
     "metadata": {},
     "output_type": "display_data"
    },
    {
     "name": "stdout",
     "output_type": "stream",
     "text": [
      "\n"
     ]
    }
   ],
   "source": [
    "df = rapidapi.query_pair(\"BCN\", \"CAG\")"
   ]
  },
  {
   "cell_type": "code",
   "execution_count": 2,
   "metadata": {
    "ExecuteTime": {
     "end_time": "2020-01-12T15:46:08.284200Z",
     "start_time": "2020-01-12T15:43:51.113242Z"
    },
    "scrolled": true
   },
   "outputs": [
    {
     "data": {
      "application/vnd.jupyter.widget-view+json": {
       "model_id": "5283b218557c4e1dabc880fd709516a7",
       "version_major": 2,
       "version_minor": 0
      },
      "text/plain": [
       "HBox(children=(FloatProgress(value=0.0, max=8.0), HTML(value='')))"
      ]
     },
     "metadata": {},
     "output_type": "display_data"
    },
    {
     "data": {
      "application/vnd.jupyter.widget-view+json": {
       "model_id": "1c1bd9467bdd49dda8b2b0b3301b4b51",
       "version_major": 2,
       "version_minor": 0
      },
      "text/plain": [
       "HBox(children=(FloatProgress(value=0.0, max=366.0), HTML(value='')))"
      ]
     },
     "metadata": {},
     "output_type": "display_data"
    },
    {
     "name": "stdout",
     "output_type": "stream",
     "text": [
      "\n"
     ]
    },
    {
     "data": {
      "application/vnd.jupyter.widget-view+json": {
       "model_id": "097627ffa033485888619282034bab0d",
       "version_major": 2,
       "version_minor": 0
      },
      "text/plain": [
       "HBox(children=(FloatProgress(value=0.0, max=366.0), HTML(value='')))"
      ]
     },
     "metadata": {},
     "output_type": "display_data"
    },
    {
     "name": "stdout",
     "output_type": "stream",
     "text": [
      "\n"
     ]
    },
    {
     "data": {
      "application/vnd.jupyter.widget-view+json": {
       "model_id": "d563cd85001547afb6afe6637d686d51",
       "version_major": 2,
       "version_minor": 0
      },
      "text/plain": [
       "HBox(children=(FloatProgress(value=0.0, max=366.0), HTML(value='')))"
      ]
     },
     "metadata": {},
     "output_type": "display_data"
    },
    {
     "name": "stdout",
     "output_type": "stream",
     "text": [
      "\n"
     ]
    },
    {
     "data": {
      "application/vnd.jupyter.widget-view+json": {
       "model_id": "7b4994988c544646a6bc111c90896cb4",
       "version_major": 2,
       "version_minor": 0
      },
      "text/plain": [
       "HBox(children=(FloatProgress(value=0.0, max=366.0), HTML(value='')))"
      ]
     },
     "metadata": {},
     "output_type": "display_data"
    },
    {
     "name": "stdout",
     "output_type": "stream",
     "text": [
      "\n"
     ]
    },
    {
     "data": {
      "application/vnd.jupyter.widget-view+json": {
       "model_id": "21fae0a7065d4612b6441d6455e4d577",
       "version_major": 2,
       "version_minor": 0
      },
      "text/plain": [
       "HBox(children=(FloatProgress(value=0.0, max=366.0), HTML(value='')))"
      ]
     },
     "metadata": {},
     "output_type": "display_data"
    },
    {
     "name": "stdout",
     "output_type": "stream",
     "text": [
      "\n"
     ]
    },
    {
     "data": {
      "application/vnd.jupyter.widget-view+json": {
       "model_id": "bbbcfeb9cf4e411293b6b42cb9c823c1",
       "version_major": 2,
       "version_minor": 0
      },
      "text/plain": [
       "HBox(children=(FloatProgress(value=0.0, max=366.0), HTML(value='')))"
      ]
     },
     "metadata": {},
     "output_type": "display_data"
    },
    {
     "name": "stdout",
     "output_type": "stream",
     "text": [
      "\n"
     ]
    },
    {
     "data": {
      "application/vnd.jupyter.widget-view+json": {
       "model_id": "13156ffd7a734639ad581dda8189c67c",
       "version_major": 2,
       "version_minor": 0
      },
      "text/plain": [
       "HBox(children=(FloatProgress(value=0.0, max=366.0), HTML(value='')))"
      ]
     },
     "metadata": {},
     "output_type": "display_data"
    },
    {
     "name": "stdout",
     "output_type": "stream",
     "text": [
      "\n"
     ]
    },
    {
     "data": {
      "application/vnd.jupyter.widget-view+json": {
       "model_id": "3b313525bbf54dec8f04643541de87df",
       "version_major": 2,
       "version_minor": 0
      },
      "text/plain": [
       "HBox(children=(FloatProgress(value=0.0, max=366.0), HTML(value='')))"
      ]
     },
     "metadata": {},
     "output_type": "display_data"
    },
    {
     "name": "stdout",
     "output_type": "stream",
     "text": [
      "\n",
      "\n"
     ]
    }
   ],
   "source": [
    "df = process.retrive_all_flights()"
   ]
  },
  {
   "cell_type": "code",
   "execution_count": 5,
   "metadata": {
    "ExecuteTime": {
     "end_time": "2020-01-12T15:49:57.286791Z",
     "start_time": "2020-01-12T15:49:57.280780Z"
    }
   },
   "outputs": [],
   "source": [
    "dbx = gu.dropbox.get_dbx_connector(c.VAR_DROPBOX_TOKEN)"
   ]
  },
  {
   "cell_type": "code",
   "execution_count": 8,
   "metadata": {
    "ExecuteTime": {
     "end_time": "2020-01-12T15:52:02.767909Z",
     "start_time": "2020-01-12T15:52:00.960860Z"
    }
   },
   "outputs": [],
   "source": [
    "gu.dropbox.write_excel(dbx, df, c.FILE_FLIGHTS, index=False)"
   ]
  },
  {
   "cell_type": "code",
   "execution_count": 9,
   "metadata": {
    "ExecuteTime": {
     "end_time": "2020-01-12T15:52:29.708972Z",
     "start_time": "2020-01-12T15:52:28.892506Z"
    }
   },
   "outputs": [
    {
     "data": {
      "text/html": [
       "<div>\n",
       "<style scoped>\n",
       "    .dataframe tbody tr th:only-of-type {\n",
       "        vertical-align: middle;\n",
       "    }\n",
       "\n",
       "    .dataframe tbody tr th {\n",
       "        vertical-align: top;\n",
       "    }\n",
       "\n",
       "    .dataframe thead th {\n",
       "        text-align: right;\n",
       "    }\n",
       "</style>\n",
       "<table border=\"1\" class=\"dataframe\">\n",
       "  <thead>\n",
       "    <tr style=\"text-align: right;\">\n",
       "      <th></th>\n",
       "      <th>Price</th>\n",
       "      <th>Direct</th>\n",
       "      <th>Quote_date</th>\n",
       "      <th>Date</th>\n",
       "      <th>Carrier</th>\n",
       "      <th>Origin</th>\n",
       "      <th>Destination</th>\n",
       "      <th>Inserted</th>\n",
       "    </tr>\n",
       "  </thead>\n",
       "  <tbody>\n",
       "    <tr>\n",
       "      <th>0</th>\n",
       "      <td>77</td>\n",
       "      <td>False</td>\n",
       "      <td>2020-01-11 14:36:00</td>\n",
       "      <td>2020-01-14</td>\n",
       "      <td>Ryanair</td>\n",
       "      <td>CAG</td>\n",
       "      <td>GRO</td>\n",
       "      <td>2020-01-12</td>\n",
       "    </tr>\n",
       "    <tr>\n",
       "      <th>1</th>\n",
       "      <td>120</td>\n",
       "      <td>False</td>\n",
       "      <td>2020-01-11 14:36:00</td>\n",
       "      <td>2020-01-15</td>\n",
       "      <td>Ryanair</td>\n",
       "      <td>CAG</td>\n",
       "      <td>GRO</td>\n",
       "      <td>2020-01-12</td>\n",
       "    </tr>\n",
       "    <tr>\n",
       "      <th>2</th>\n",
       "      <td>135</td>\n",
       "      <td>False</td>\n",
       "      <td>2020-01-11 14:37:00</td>\n",
       "      <td>2020-01-16</td>\n",
       "      <td>Alitalia</td>\n",
       "      <td>CAG</td>\n",
       "      <td>GRO</td>\n",
       "      <td>2020-01-12</td>\n",
       "    </tr>\n",
       "    <tr>\n",
       "      <th>3</th>\n",
       "      <td>81</td>\n",
       "      <td>False</td>\n",
       "      <td>2020-01-11 14:37:00</td>\n",
       "      <td>2020-01-17</td>\n",
       "      <td>Ryanair</td>\n",
       "      <td>CAG</td>\n",
       "      <td>GRO</td>\n",
       "      <td>2020-01-12</td>\n",
       "    </tr>\n",
       "    <tr>\n",
       "      <th>4</th>\n",
       "      <td>77</td>\n",
       "      <td>False</td>\n",
       "      <td>2020-01-11 14:37:00</td>\n",
       "      <td>2020-01-18</td>\n",
       "      <td>Ryanair</td>\n",
       "      <td>CAG</td>\n",
       "      <td>GRO</td>\n",
       "      <td>2020-01-12</td>\n",
       "    </tr>\n",
       "    <tr>\n",
       "      <th>...</th>\n",
       "      <td>...</td>\n",
       "      <td>...</td>\n",
       "      <td>...</td>\n",
       "      <td>...</td>\n",
       "      <td>...</td>\n",
       "      <td>...</td>\n",
       "      <td>...</td>\n",
       "      <td>...</td>\n",
       "    </tr>\n",
       "    <tr>\n",
       "      <th>1410</th>\n",
       "      <td>31</td>\n",
       "      <td>True</td>\n",
       "      <td>2020-01-08 18:22:00</td>\n",
       "      <td>2020-10-08</td>\n",
       "      <td>Ryanair</td>\n",
       "      <td>GRO</td>\n",
       "      <td>AHO</td>\n",
       "      <td>2020-01-12</td>\n",
       "    </tr>\n",
       "    <tr>\n",
       "      <th>1411</th>\n",
       "      <td>38</td>\n",
       "      <td>True</td>\n",
       "      <td>2020-01-08 18:43:00</td>\n",
       "      <td>2020-10-10</td>\n",
       "      <td>Ryanair</td>\n",
       "      <td>GRO</td>\n",
       "      <td>AHO</td>\n",
       "      <td>2020-01-12</td>\n",
       "    </tr>\n",
       "    <tr>\n",
       "      <th>1412</th>\n",
       "      <td>26</td>\n",
       "      <td>True</td>\n",
       "      <td>2020-01-08 09:29:00</td>\n",
       "      <td>2020-10-13</td>\n",
       "      <td>Ryanair</td>\n",
       "      <td>GRO</td>\n",
       "      <td>AHO</td>\n",
       "      <td>2020-01-12</td>\n",
       "    </tr>\n",
       "    <tr>\n",
       "      <th>1413</th>\n",
       "      <td>38</td>\n",
       "      <td>True</td>\n",
       "      <td>2020-01-08 18:43:00</td>\n",
       "      <td>2020-10-17</td>\n",
       "      <td>Ryanair</td>\n",
       "      <td>GRO</td>\n",
       "      <td>AHO</td>\n",
       "      <td>2020-01-12</td>\n",
       "    </tr>\n",
       "    <tr>\n",
       "      <th>1414</th>\n",
       "      <td>31</td>\n",
       "      <td>True</td>\n",
       "      <td>2020-01-08 14:53:00</td>\n",
       "      <td>2020-10-24</td>\n",
       "      <td>Ryanair</td>\n",
       "      <td>GRO</td>\n",
       "      <td>AHO</td>\n",
       "      <td>2020-01-12</td>\n",
       "    </tr>\n",
       "  </tbody>\n",
       "</table>\n",
       "<p>1415 rows × 8 columns</p>\n",
       "</div>"
      ],
      "text/plain": [
       "      Price  Direct          Quote_date       Date   Carrier Origin  \\\n",
       "0        77   False 2020-01-11 14:36:00 2020-01-14   Ryanair    CAG   \n",
       "1       120   False 2020-01-11 14:36:00 2020-01-15   Ryanair    CAG   \n",
       "2       135   False 2020-01-11 14:37:00 2020-01-16  Alitalia    CAG   \n",
       "3        81   False 2020-01-11 14:37:00 2020-01-17   Ryanair    CAG   \n",
       "4        77   False 2020-01-11 14:37:00 2020-01-18   Ryanair    CAG   \n",
       "...     ...     ...                 ...        ...       ...    ...   \n",
       "1410     31    True 2020-01-08 18:22:00 2020-10-08   Ryanair    GRO   \n",
       "1411     38    True 2020-01-08 18:43:00 2020-10-10   Ryanair    GRO   \n",
       "1412     26    True 2020-01-08 09:29:00 2020-10-13   Ryanair    GRO   \n",
       "1413     38    True 2020-01-08 18:43:00 2020-10-17   Ryanair    GRO   \n",
       "1414     31    True 2020-01-08 14:53:00 2020-10-24   Ryanair    GRO   \n",
       "\n",
       "     Destination   Inserted  \n",
       "0            GRO 2020-01-12  \n",
       "1            GRO 2020-01-12  \n",
       "2            GRO 2020-01-12  \n",
       "3            GRO 2020-01-12  \n",
       "4            GRO 2020-01-12  \n",
       "...          ...        ...  \n",
       "1410         AHO 2020-01-12  \n",
       "1411         AHO 2020-01-12  \n",
       "1412         AHO 2020-01-12  \n",
       "1413         AHO 2020-01-12  \n",
       "1414         AHO 2020-01-12  \n",
       "\n",
       "[1415 rows x 8 columns]"
      ]
     },
     "execution_count": 9,
     "metadata": {},
     "output_type": "execute_result"
    }
   ],
   "source": [
    "df_history = gu.dropbox.read_excel(dbx, c.FILE_FLIGHTS)\n",
    "df_history"
   ]
  },
  {
   "cell_type": "code",
   "execution_count": 18,
   "metadata": {
    "ExecuteTime": {
     "end_time": "2020-01-12T15:54:16.801010Z",
     "start_time": "2020-01-12T15:54:16.794028Z"
    }
   },
   "outputs": [],
   "source": [
    "df_out = pd.concat([df_history, df])"
   ]
  },
  {
   "cell_type": "code",
   "execution_count": 19,
   "metadata": {
    "ExecuteTime": {
     "end_time": "2020-01-12T15:54:21.142449Z",
     "start_time": "2020-01-12T15:54:21.138486Z"
    }
   },
   "outputs": [
    {
     "data": {
      "text/plain": [
       "(2830, 8)"
      ]
     },
     "execution_count": 19,
     "metadata": {},
     "output_type": "execute_result"
    }
   ],
   "source": [
    "df_out.shape"
   ]
  },
  {
   "cell_type": "code",
   "execution_count": 20,
   "metadata": {
    "ExecuteTime": {
     "end_time": "2020-01-12T15:56:13.056753Z",
     "start_time": "2020-01-12T15:56:13.051767Z"
    }
   },
   "outputs": [],
   "source": [
    "cols = [c.COL_DATE, c.COL_QUOTE_DATE, c.COL_ORIGIN, c.COL_DESTINATION, c.COL_DIRECT, c.COL_CARRIER, c.COL_PRICE]"
   ]
  },
  {
   "cell_type": "code",
   "execution_count": 21,
   "metadata": {
    "ExecuteTime": {
     "end_time": "2020-01-12T15:56:28.838581Z",
     "start_time": "2020-01-12T15:56:28.827610Z"
    }
   },
   "outputs": [],
   "source": [
    "df_out = df_out.drop_duplicates(cols)"
   ]
  },
  {
   "cell_type": "code",
   "execution_count": 22,
   "metadata": {
    "ExecuteTime": {
     "end_time": "2020-01-12T15:56:33.537143Z",
     "start_time": "2020-01-12T15:56:33.533154Z"
    }
   },
   "outputs": [
    {
     "data": {
      "text/plain": [
       "(1415, 8)"
      ]
     },
     "execution_count": 22,
     "metadata": {},
     "output_type": "execute_result"
    }
   ],
   "source": [
    "df_out.shape"
   ]
  },
  {
   "cell_type": "code",
   "execution_count": null,
   "metadata": {},
   "outputs": [],
   "source": []
  }
 ],
 "metadata": {
  "kernelspec": {
   "display_name": "Python 3",
   "language": "python",
   "name": "python3"
  },
  "language_info": {
   "codemirror_mode": {
    "name": "ipython",
    "version": 3
   },
   "file_extension": ".py",
   "mimetype": "text/x-python",
   "name": "python",
   "nbconvert_exporter": "python",
   "pygments_lexer": "ipython3",
   "version": "3.7.3"
  }
 },
 "nbformat": 4,
 "nbformat_minor": 2
}
